{
 "cells": [
  {
   "cell_type": "markdown",
   "id": "45071f5e",
   "metadata": {},
   "source": [
    "# Buổi 7. Project"
   ]
  },
  {
   "cell_type": "markdown",
   "id": "b4d7c1f2",
   "metadata": {},
   "source": []
  }
 ],
 "metadata": {
  "language_info": {
   "name": "python"
  }
 },
 "nbformat": 4,
 "nbformat_minor": 5
}
