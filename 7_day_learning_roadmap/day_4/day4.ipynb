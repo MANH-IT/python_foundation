{
 "cells": [
  {
   "cell_type": "markdown",
   "id": "07a2a187",
   "metadata": {},
   "source": [
    "# Buổi 4. List, Tuple, Dict & Xử lý chuỗi"
   ]
  },
  {
   "cell_type": "markdown",
   "id": "a007da69",
   "metadata": {},
   "source": []
  }
 ],
 "metadata": {
  "language_info": {
   "name": "python"
  }
 },
 "nbformat": 4,
 "nbformat_minor": 5
}
