{
 "cells": [
  {
   "cell_type": "markdown",
   "id": "07a2a187",
   "metadata": {},
   "source": [
    "# Buổi 4. List, Tuple, Dictionary & Xử lý chuỗi"
   ]
  },
  {
   "cell_type": "markdown",
   "id": "1f5a14e0",
   "metadata": {},
   "source": [
    "## 1. LIST \n",
    "#### Khái niệm: \n",
    "##### Danh sách dữ liệu cấu trúc có thể thay đổi , chứa nhiều phần tử .\n",
    "\n",
    "##### Được tạo bằng dấu ngoặc vuông []."
   ]
  },
  {
   "cell_type": "code",
   "execution_count": 1,
   "id": "dad79573",
   "metadata": {},
   "outputs": [],
   "source": [
    "fruits = [\"apple\", \"banana\", \"cherry\"]\n"
   ]
  },
  {
   "cell_type": "code",
   "execution_count": 2,
   "id": "8a3592e2",
   "metadata": {},
   "outputs": [],
   "source": [
    "# Thêm phần tử\n",
    "fruits.append(\"orange\")"
   ]
  },
  {
   "cell_type": "code",
   "execution_count": 3,
   "id": "32a8aede",
   "metadata": {},
   "outputs": [
    {
     "name": "stdout",
     "output_type": "stream",
     "text": [
      "banana\n"
     ]
    }
   ],
   "source": [
    "# Truy cập phần tử\n",
    "print(fruits[1])     # banana"
   ]
  },
  {
   "cell_type": "code",
   "execution_count": 4,
   "id": "a4d4e344",
   "metadata": {},
   "outputs": [],
   "source": [
    "# Sửa phần tử\n",
    "fruits[0] = \"mango\""
   ]
  },
  {
   "cell_type": "code",
   "execution_count": 5,
   "id": "d3b000c3",
   "metadata": {},
   "outputs": [],
   "source": [
    "# Xóa phần tử\n",
    "fruits.remove(\"banana\")  # hoặc del fruits[1]"
   ]
  },
  {
   "cell_type": "code",
   "execution_count": 6,
   "id": "66dc82af",
   "metadata": {},
   "outputs": [
    {
     "name": "stdout",
     "output_type": "stream",
     "text": [
      "mango\n",
      "cherry\n",
      "orange\n"
     ]
    }
   ],
   "source": [
    "# Duyệt list\n",
    "for fruit in fruits:\n",
    "    print(fruit)"
   ]
  },
  {
   "cell_type": "markdown",
   "id": "a007da69",
   "metadata": {},
   "source": []
  },
  {
   "cell_type": "markdown",
   "id": "7e6694ea",
   "metadata": {},
   "source": [
    "## 2.  TUPLE\n",
    "#### Khái niệm:\n",
    "##### Danh sách tuple giống nhau nhưng bất biến (immutable) .\n",
    "\n",
    "##### Tạo bằng dấu ngoặc tròn ()."
   ]
  },
  {
   "cell_type": "code",
   "execution_count": 7,
   "id": "c58e46b2",
   "metadata": {},
   "outputs": [],
   "source": [
    "colors = (\"red\", \"green\", \"blue\")\n"
   ]
  },
  {
   "cell_type": "code",
   "execution_count": 8,
   "id": "eba7d58d",
   "metadata": {},
   "outputs": [
    {
     "name": "stdout",
     "output_type": "stream",
     "text": [
      "red\n",
      "red\n",
      "green\n",
      "blue\n"
     ]
    }
   ],
   "source": [
    "print(colors[0])      # red\n",
    "\n",
    "for color in colors:\n",
    "    print(color)\n"
   ]
  },
  {
   "cell_type": "markdown",
   "id": "a2805109",
   "metadata": {},
   "source": []
  },
  {
   "cell_type": "markdown",
   "id": "43c37d80",
   "metadata": {},
   "source": [
    "## 3. DICTIONARY"
   ]
  },
  {
   "cell_type": "markdown",
   "id": "b19e2f3f",
   "metadata": {},
   "source": [
    "#### Khái niệm:\n",
    "##### Khóa-giá trị dạng . Mỗi key là duy nhất.\n",
    "\n",
    "##### Sử dụng dấu ngoặc kép {}."
   ]
  },
  {
   "cell_type": "code",
   "execution_count": 9,
   "metadata": {},
   "outputs": [],
   "source": [
    "student = {\n",
    "    \"name\": \"Manh\",\n",
    "    \"age\": 19,\n",
    "    \"grade\": 10\n",
    "}\n"
   ]
  },
  {
   "cell_type": "code",
   "execution_count": 10,
   "id": "4e0ac6a7",
   "metadata": {},
   "outputs": [
    {
     "name": "stdout",
     "output_type": "stream",
     "text": [
      "Manh\n"
     ]
    }
   ],
   "source": [
    "print(student[\"name\"])       # Manh\n",
    "\n",
    "student[\"age\"] = 20          # Cập nhật\n",
    "\n",
    "student[\"address\"] = \"HN\"    # Thêm\n",
    "\n",
    "del student[\"grade\"]         # Xóa\n"
   ]
  },
  {
   "cell_type": "markdown",
   "id": "a011f8d4",
   "metadata": {},
   "source": [
    "## 4. XỬ LÝ CHUỖI"
   ]
  },
  {
   "cell_type": "code",
   "execution_count": 11,
   "id": "bee219a3",
   "metadata": {},
   "outputs": [
    {
     "name": "stdout",
     "output_type": "stream",
     "text": [
      "hello Python\n",
      "  HELLO PYTHON  \n",
      "  hello python  \n",
      "  hello World  \n",
      "['hello', 'Python']\n"
     ]
    }
   ],
   "source": [
    "s = \"  hello Python  \"\n",
    "\n",
    "print(s.strip())         # loại bỏ khoảng trắng\n",
    "print(s.upper())         # HELLO PYTHON\n",
    "print(s.lower())         # hello python\n",
    "print(s.replace(\"Python\", \"World\"))  # hello World\n",
    "print(s.split())         # ['hello', 'Python']\n"
   ]
  },
  {
   "cell_type": "markdown",
   "id": "76298f3b",
   "metadata": {},
   "source": []
  }
 ],
 "metadata": {
  "kernelspec": {
   "display_name": "Python 3",
   "language": "python",
   "name": "python3"
  },
  "language_info": {
   "codemirror_mode": {
    "name": "ipython",
    "version": 3
   },
   "file_extension": ".py",
   "mimetype": "text/x-python",
   "name": "python",
   "nbconvert_exporter": "python",
   "pygments_lexer": "ipython3",
   "version": "3.10.10"
  }
 },
 "nbformat": 4,
 "nbformat_minor": 5
}
