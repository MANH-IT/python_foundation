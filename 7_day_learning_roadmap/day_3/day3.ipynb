{
 "cells": [
  {
   "cell_type": "markdown",
   "id": "bca76816",
   "metadata": {},
   "source": [
    "# Buổi 3. Lập Trình Hướng Đối Tượng (OOP)"
   ]
  },
  {
   "cell_type": "markdown",
   "id": "b405a4bb",
   "metadata": {},
   "source": [
    "##  1.1. Class và Object"
   ]
  },
  {
   "cell_type": "markdown",
   "id": "64ab71e7",
   "metadata": {},
   "source": [
    "#### Class: là khuôn mẫu (template).\n",
    "\n",
    "#### Object: là thể hiện cụ thể (instance) của class."
   ]
  },
  {
   "cell_type": "markdown",
   "id": "7217622c",
   "metadata": {},
   "source": []
  },
  {
   "cell_type": "markdown",
   "id": "862ea514",
   "metadata": {},
   "source": [
    "#### Ví dụ 1: "
   ]
  },
  {
   "cell_type": "markdown",
   "id": "91b0320f",
   "metadata": {},
   "source": [
    "##### __init__: Hàm khởi tạo, chạy khi khởi tạo object.\n",
    "##### self: Đại diện cho chính object đang được tạo/đang gọi."
   ]
  },
  {
   "cell_type": "code",
   "execution_count": 2,
   "id": "f3d618a4",
   "metadata": {},
   "outputs": [],
   "source": [
    "class Student:\n",
    "    def __init__(self, name, age):\n",
    "        self.name = name\n",
    "        self.age = age\n",
    "\n",
    "    def introduce(self):\n",
    "        print(f\"My name is {self.name} and I'm {self.age} years old.\")\n"
   ]
  },
  {
   "cell_type": "markdown",
   "id": "83dcbf9a",
   "metadata": {},
   "source": []
  },
  {
   "cell_type": "markdown",
   "id": "932a9d64",
   "metadata": {},
   "source": [
    "## 1.2.  Thuộc tính (Attributes) và Phương thức (Methods)"
   ]
  },
  {
   "cell_type": "markdown",
   "id": "754d1ae0",
   "metadata": {},
   "source": [
    "#### Attribute: biến gắn với object (self.name)\n",
    "\n",
    "#### Method: hàm gắn với object (được định nghĩa trong class)"
   ]
  },
  {
   "cell_type": "code",
   "execution_count": 3,
   "id": "d1993bbb",
   "metadata": {},
   "outputs": [],
   "source": [
    "class Car:\n",
    "    def __init__(self, brand):\n",
    "        self.brand = brand\n",
    "\n",
    "    def drive(self):\n",
    "        print(f\"{self.brand} is driving\")\n"
   ]
  },
  {
   "cell_type": "markdown",
   "id": "0001adda",
   "metadata": {},
   "source": [
    "## 1.3. Tính đóng gói (Encapsulation)"
   ]
  },
  {
   "cell_type": "markdown",
   "id": "52935bb8",
   "metadata": {},
   "source": [
    "#### Ẩn dữ liệu nội bộ, truy cập qua phương thức.\n",
    "#### Dùng dấu __ để làm biến private.\n",
    "#### Truy cập thông qua method: get_balance(), deposit()"
   ]
  },
  {
   "cell_type": "code",
   "execution_count": 4,
   "id": "6bbea132",
   "metadata": {},
   "outputs": [],
   "source": [
    "class BankAccount:\n",
    "    def __init__(self, balance):\n",
    "        self.__balance = balance  # private\n",
    "\n",
    "    def deposit(self, amount):\n",
    "        self.__balance += amount\n",
    "\n",
    "    def get_balance(self):\n",
    "        return self.__balance\n"
   ]
  },
  {
   "cell_type": "markdown",
   "id": "edffa45b",
   "metadata": {},
   "source": []
  },
  {
   "cell_type": "markdown",
   "id": "61e521ab",
   "metadata": {},
   "source": [
    "## 1.4.Tính kế thừa (Inheritance)"
   ]
  },
  {
   "cell_type": "markdown",
   "id": "add476c1",
   "metadata": {},
   "source": [
    "#### Cho phép lớp con kế thừa thuộc tính và phương thức của lớp cha."
   ]
  },
  {
   "cell_type": "code",
   "execution_count": 5,
   "id": "82faf72a",
   "metadata": {},
   "outputs": [
    {
     "name": "stdout",
     "output_type": "stream",
     "text": [
      "Woof\n"
     ]
    }
   ],
   "source": [
    "class Animal:\n",
    "    def speak(self):\n",
    "        print(\"Animal sound\")\n",
    "\n",
    "class Dog(Animal):\n",
    "    def speak(self):\n",
    "        print(\"Woof\")\n",
    "\n",
    "d = Dog()\n",
    "d.speak()  # → Woof\n"
   ]
  },
  {
   "cell_type": "markdown",
   "id": "25efe927",
   "metadata": {},
   "source": [
    "## 1.5. Tính đa hình (Polymorphism)"
   ]
  },
  {
   "cell_type": "markdown",
   "id": "0f146d69",
   "metadata": {},
   "source": [
    "#### Nhiều class có cùng tên phương thức, nhưng hành vi khác nhau"
   ]
  },
  {
   "cell_type": "code",
   "execution_count": 6,
   "id": "b19cd242",
   "metadata": {},
   "outputs": [
    {
     "name": "stdout",
     "output_type": "stream",
     "text": [
      "Meow\n",
      "Woof\n"
     ]
    }
   ],
   "source": [
    "class Cat:\n",
    "    def sound(self):\n",
    "        print(\"Meow\")\n",
    "\n",
    "class Dog:\n",
    "    def sound(self):\n",
    "        print(\"Woof\")\n",
    "\n",
    "for pet in [Cat(), Dog()]:\n",
    "    pet.sound()\n"
   ]
  },
  {
   "cell_type": "markdown",
   "id": "5bb15573",
   "metadata": {},
   "source": [
    "## 1.6. Tính trừu tượng (Abstraction)"
   ]
  },
  {
   "cell_type": "markdown",
   "id": "e1247c55",
   "metadata": {},
   "source": [
    "#### Ẩn đi chi tiết, chỉ lộ những gì cần thiết"
   ]
  },
  {
   "cell_type": "code",
   "execution_count": 7,
   "id": "6c7f6c1c",
   "metadata": {},
   "outputs": [],
   "source": [
    "# Không cần abc module nếu chỉ ở mức foundation\n",
    "class Vehicle:\n",
    "    def move(self):\n",
    "        pass  # để lớp con định nghĩa sau\n",
    "\n",
    "class Bike(Vehicle):\n",
    "    def move(self):\n",
    "        print(\"Bike moves on 2 wheels\")\n"
   ]
  },
  {
   "cell_type": "markdown",
   "id": "f1c2f9ca",
   "metadata": {},
   "source": [
    "## 2. Bài tập "
   ]
  },
  {
   "cell_type": "markdown",
   "id": "768dca5e",
   "metadata": {},
   "source": [
    "#### 2.1.Tạo lớp Person"
   ]
  },
  {
   "cell_type": "markdown",
   "id": "dd91de07",
   "metadata": {},
   "source": [
    "##### Viết lớp Person có:\n",
    "\n",
    "##### Thuộc tính: name, age\n",
    "\n",
    "##### Phương thức: introduce() in ra: \"My name is {name}, I'm {age} years old.\""
   ]
  },
  {
   "cell_type": "code",
   "execution_count": 9,
   "id": "32159231",
   "metadata": {},
   "outputs": [
    {
     "name": "stdout",
     "output_type": "stream",
     "text": [
      "My name is Manh, I'm 20 years old.\n"
     ]
    }
   ],
   "source": [
    "class Person: \n",
    "    def __init__(self, name, age):\n",
    "        self.name = name\n",
    "        self.age = age \n",
    "    \n",
    "    def introduce(self):\n",
    "        print(f\"My name is {self.name}, I'm {self.age} years old.\")\n",
    "\n",
    "p = Person(\"Manh\", 20)\n",
    "p.introduce()"
   ]
  },
  {
   "cell_type": "markdown",
   "id": "f9745ab0",
   "metadata": {},
   "source": [
    "#### 2.2. Lớp Rectangle\n",
    "##### Viết lớp Rectangle với:\n",
    "\n",
    "##### Thuộc tính: width, height\n",
    "\n",
    "##### Phương thức: area(), perimeter()"
   ]
  },
  {
   "cell_type": "code",
   "execution_count": 10,
   "id": "c93ded2e",
   "metadata": {},
   "outputs": [
    {
     "name": "stdout",
     "output_type": "stream",
     "text": [
      "Area: 15\n",
      "Perimeter: 16\n"
     ]
    }
   ],
   "source": [
    "class Rectangle:\n",
    "    def __init__(self, width, height):\n",
    "        self.width = width\n",
    "        self.height = height\n",
    "\n",
    "    def area(self):\n",
    "        return self.width * self.height\n",
    "\n",
    "    def perimeter(self):\n",
    "        return 2 * (self.width + self.height)\n",
    "\n",
    "\n",
    "r = Rectangle(5, 3)\n",
    "print(\"Area:\", r.area())         # 15\n",
    "print(\"Perimeter:\", r.perimeter())  # 16\n"
   ]
  },
  {
   "cell_type": "markdown",
   "id": "62d3670f",
   "metadata": {},
   "source": [
    "#### 2.3. Sổ tiết kiệm\n",
    "##### Tạo lớp BankAccount:\n",
    "\n",
    "##### Khởi tạo với số dư ban đầu.\n",
    "\n",
    "##### Có phương thức deposit(amount), withdraw(amount), get_balance()."
   ]
  },
  {
   "cell_type": "code",
   "execution_count": 11,
   "id": "b90bc50c",
   "metadata": {},
   "outputs": [
    {
     "name": "stdout",
     "output_type": "stream",
     "text": [
      "Balance: 1300\n"
     ]
    }
   ],
   "source": [
    "class BankAccount:\n",
    "    def __init__(self, balance):\n",
    "        self.__balance = balance  # private\n",
    "\n",
    "    def deposit(self, amount):\n",
    "        self.__balance += amount\n",
    "\n",
    "    def withdraw(self, amount):\n",
    "        if amount > self.__balance:\n",
    "            print(\"Not enough balance\")\n",
    "        else:\n",
    "            self.__balance -= amount\n",
    "\n",
    "    def get_balance(self):\n",
    "        return self.__balance\n",
    "\n",
    "# Test\n",
    "acc = BankAccount(1000)\n",
    "acc.deposit(500)\n",
    "acc.withdraw(200)\n",
    "print(\"Balance:\", acc.get_balance())  # 1300\n"
   ]
  },
  {
   "cell_type": "markdown",
   "id": "2359283c",
   "metadata": {},
   "source": [
    "#### 2.4. Kế thừa: Lớp Animal và Dog\n",
    "##### Tạo lớp Animal có phương thức make_sound()\n",
    "\n",
    "##### Tạo lớp Dog kế thừa Animal, ghi đè make_sound() thành \"Woof!\""
   ]
  },
  {
   "cell_type": "markdown",
   "id": "61f8e499",
   "metadata": {},
   "source": []
  },
  {
   "cell_type": "code",
   "execution_count": 12,
   "id": "8362a5f1",
   "metadata": {},
   "outputs": [
    {
     "name": "stdout",
     "output_type": "stream",
     "text": [
      "Some sound\n",
      "Woof!\n"
     ]
    }
   ],
   "source": [
    "class Animal:\n",
    "    def make_sound(self):\n",
    "        print(\"Some sound\")\n",
    "\n",
    "class Dog(Animal):\n",
    "    def make_sound(self):\n",
    "        print(\"Woof!\")\n",
    "\n",
    "# Test\n",
    "a = Animal()\n",
    "a.make_sound()   # Some sound\n",
    "\n",
    "d = Dog()\n",
    "d.make_sound()   # Woof!\n"
   ]
  },
  {
   "cell_type": "markdown",
   "id": "7c8c7e98",
   "metadata": {},
   "source": [
    "#### 2.5. Lớp Student kế thừa từ Person\n",
    "##### Student có thêm thuộc tính grade\n",
    "\n",
    "##### Phương thức introduce() kế thừa từ Person, bổ sung thông tin điểm số"
   ]
  },
  {
   "cell_type": "code",
   "execution_count": 13,
   "id": "0e5c4a55",
   "metadata": {},
   "outputs": [
    {
     "name": "stdout",
     "output_type": "stream",
     "text": [
      "I'm Manh, my grade is 9\n"
     ]
    }
   ],
   "source": [
    "class Person:\n",
    "    def __init__(self, name):\n",
    "        self.name = name\n",
    "\n",
    "    def introduce(self):\n",
    "        print(f\"I'm {self.name}\")\n",
    "\n",
    "class Student(Person):\n",
    "    def __init__(self, name, grade):\n",
    "        super().__init__(name)\n",
    "        self.grade = grade\n",
    "\n",
    "    def introduce(self):\n",
    "        print(f\"I'm {self.name}, my grade is {self.grade}\")\n",
    "\n",
    "# Test\n",
    "s = Student(\"Manh\", 9)\n",
    "s.introduce()  # I'm Manh, my grade is 9\n"
   ]
  },
  {
   "cell_type": "markdown",
   "id": "82ed99bb",
   "metadata": {},
   "source": [
    "#### 2.6. Tính đóng gói\n",
    "##### Viết lớp Account:\n",
    "\n",
    "##### Biến private __balance\n",
    "\n",
    "##### Phương thức deposit(), withdraw(), get_balance()"
   ]
  },
  {
   "cell_type": "code",
   "execution_count": 14,
   "id": "1101b6cc",
   "metadata": {},
   "outputs": [
    {
     "name": "stdout",
     "output_type": "stream",
     "text": [
      "Insufficient funds\n",
      "500\n"
     ]
    }
   ],
   "source": [
    "class Account:\n",
    "    def __init__(self, balance):\n",
    "        self.__balance = balance\n",
    "\n",
    "    def deposit(self, amount):\n",
    "        self.__balance += amount\n",
    "\n",
    "    def withdraw(self, amount):\n",
    "        if amount > self.__balance:\n",
    "            print(\"Insufficient funds\")\n",
    "        else:\n",
    "            self.__balance -= amount\n",
    "\n",
    "    def get_balance(self):\n",
    "        return self.__balance\n",
    "\n",
    "# Test\n",
    "a = Account(500)\n",
    "a.withdraw(600)  # Insufficient funds\n",
    "print(a.get_balance())  # 500\n"
   ]
  },
  {
   "cell_type": "markdown",
   "id": "e9994d60",
   "metadata": {},
   "source": [
    "#### 2.7. Quản lý học sinh bằng danh sách\n",
    "#### Viết lớp Student:\n",
    "\n",
    "##### name, math, literature\n",
    "\n",
    "##### Phương thức avg_score()\n",
    "\n",
    "#### Viết lớp Classroom:\n",
    "\n",
    "##### Chứa danh sách học sinh.\n",
    "\n",
    "##### Phương thức: thêm học sinh, in học sinh giỏi (điểm TB > 8)"
   ]
  },
  {
   "cell_type": "code",
   "execution_count": 15,
   "id": "41306550",
   "metadata": {},
   "outputs": [
    {
     "name": "stdout",
     "output_type": "stream",
     "text": [
      "Nam - Avg: 8.75\n"
     ]
    }
   ],
   "source": [
    "class Student:\n",
    "    def __init__(self, name, math, literature):\n",
    "        self.name = name\n",
    "        self.math = math\n",
    "        self.literature = literature\n",
    "\n",
    "    def avg_score(self):\n",
    "        return (self.math + self.literature) / 2\n",
    "\n",
    "class Classroom:\n",
    "    def __init__(self):\n",
    "        self.students = []\n",
    "\n",
    "    def add_student(self, s):\n",
    "        self.students.append(s)\n",
    "\n",
    "    def show_excellent(self):\n",
    "        for s in self.students:\n",
    "            if s.avg_score() > 8:\n",
    "                print(f\"{s.name} - Avg: {s.avg_score()}\")\n",
    "\n",
    "# Test\n",
    "c = Classroom()\n",
    "c.add_student(Student(\"Nam\", 9, 8.5))\n",
    "c.add_student(Student(\"Lan\", 7, 6))\n",
    "c.show_excellent()\n"
   ]
  },
  {
   "cell_type": "markdown",
   "id": "323b2c04",
   "metadata": {},
   "source": []
  },
  {
   "cell_type": "markdown",
   "id": "9c99ccc4",
   "metadata": {},
   "source": [
    "#### 2.8. Tính đa hình\n",
    "#### Tạo các lớp:\n",
    "\n",
    "##### Bird: sound() → \"Chirp\"\n",
    "\n",
    "##### Cat: sound() → \"Meow\"\n",
    "\n",
    "##### Dog: sound() → \"Woof\"\n",
    "\n",
    "##### Viết hàm nhận list các object và gọi sound() từng con."
   ]
  },
  {
   "cell_type": "code",
   "execution_count": 16,
   "id": "7f3cacee",
   "metadata": {},
   "outputs": [
    {
     "name": "stdout",
     "output_type": "stream",
     "text": [
      "Chirp\n",
      "Meow\n",
      "Woof\n"
     ]
    }
   ],
   "source": [
    "class Bird:\n",
    "    def sound(self):\n",
    "        print(\"Chirp\")\n",
    "\n",
    "class Cat:\n",
    "    def sound(self):\n",
    "        print(\"Meow\")\n",
    "\n",
    "class Dog:\n",
    "    def sound(self):\n",
    "        print(\"Woof\")\n",
    "\n",
    "# Test\n",
    "animals = [Bird(), Cat(), Dog()]\n",
    "for a in animals:\n",
    "    a.sound()\n"
   ]
  },
  {
   "cell_type": "markdown",
   "id": "b86261e5",
   "metadata": {},
   "source": [
    "####  2.9. Ghi đè toán tử (__add__, __str__)\n",
    "#### Viết lớp Vector2D(x, y):\n",
    "\n",
    "##### Cộng 2 vector bằng +\n",
    "\n",
    "##### In ra chuỗi theo dạng (x, y)"
   ]
  },
  {
   "cell_type": "code",
   "execution_count": 17,
   "id": "16557de8",
   "metadata": {},
   "outputs": [
    {
     "name": "stdout",
     "output_type": "stream",
     "text": [
      "(3, 7)\n"
     ]
    }
   ],
   "source": [
    "class Vector2D:\n",
    "    def __init__(self, x, y):\n",
    "        self.x = x\n",
    "        self.y = y\n",
    "\n",
    "    def __add__(self, other):\n",
    "        return Vector2D(self.x + other.x, self.y + other.y)\n",
    "\n",
    "    def __str__(self):\n",
    "        return f\"({self.x}, {self.y})\"\n",
    "\n",
    "# Test\n",
    "v1 = Vector2D(2, 3)\n",
    "v2 = Vector2D(1, 4)\n",
    "print(v1 + v2)  # (3, 7)\n"
   ]
  },
  {
   "cell_type": "markdown",
   "id": "de428726",
   "metadata": {},
   "source": []
  }
 ],
 "metadata": {
  "kernelspec": {
   "display_name": "Python 3",
   "language": "python",
   "name": "python3"
  },
  "language_info": {
   "codemirror_mode": {
    "name": "ipython",
    "version": 3
   },
   "file_extension": ".py",
   "mimetype": "text/x-python",
   "name": "python",
   "nbconvert_exporter": "python",
   "pygments_lexer": "ipython3",
   "version": "3.10.10"
  }
 },
 "nbformat": 4,
 "nbformat_minor": 5
}
