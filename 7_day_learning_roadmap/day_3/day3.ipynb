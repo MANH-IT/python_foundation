{
 "cells": [
  {
   "cell_type": "markdown",
   "id": "bca76816",
   "metadata": {},
   "source": [
    "# Buổi 3. Module, Lập Trình Hướng Đối Tượng (OOP)"
   ]
  },
  {
   "cell_type": "markdown",
   "id": "7217622c",
   "metadata": {},
   "source": []
  }
 ],
 "metadata": {
  "language_info": {
   "name": "python"
  }
 },
 "nbformat": 4,
 "nbformat_minor": 5
}
