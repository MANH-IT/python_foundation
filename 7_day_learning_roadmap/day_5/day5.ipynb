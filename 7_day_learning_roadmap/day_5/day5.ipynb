{
 "cells": [
  {
   "cell_type": "markdown",
   "id": "792a1475",
   "metadata": {},
   "source": [
    "# Buổi 5. Thư Viện Pandas, Matplotlib"
   ]
  },
  {
   "cell_type": "markdown",
   "id": "5cba786b",
   "metadata": {},
   "source": []
  },
  {
   "cell_type": "markdown",
   "id": "ea368993",
   "metadata": {},
   "source": [
    "## 1. Thư viện Pandas"
   ]
  },
  {
   "cell_type": "markdown",
   "id": "94b05ea1",
   "metadata": {},
   "source": [
    "## 1.1. Lý thuyết cơ bản\n",
    "\n",
    "#### Series:\tMảng 1 chiều có nhãn (index)\n",
    "#### DataFrame: \tBảng 2 chiều (giống bảng Excel)\n",
    "#### Đọc dữ liệu:\tpd.read_csv(\"file.csv\"), read_excel(), read_json(), ...\n",
    "#### Truy cập dữ liệu:\t.loc[], .iloc[], df['column'], df.head()\n",
    "#### Lọc dữ liệu: \tdf[df['Math'] > 8], df[(df['Math'] > 8) & (df['English'] > 7)]\n",
    "#### Thống kê nhanh: \tdf.describe(), df.info(), df.value_counts(), df.mean()\n",
    "#### Xử lý dữ liệu thiếu: \tdf.dropna(), df.fillna(0)\n",
    "#### Thêm/xoá cột: \tdf['New'] = ..., df.drop('Col', axis=1)\n"
   ]
  },
  {
   "cell_type": "code",
   "execution_count": 36,
   "id": "eb471194",
   "metadata": {},
   "outputs": [
    {
     "name": "stdout",
     "output_type": "stream",
     "text": [
      "🎖️ Học sinh giỏi:\n",
      "    Tên  Toán  Văn  Anh  Trung bình\n",
      "0   An   9.0    8    7    8.000000\n",
      "2  Chi   8.0    9    9    8.666667\n"
     ]
    }
   ],
   "source": [
    "import pandas as pd\n",
    "\n",
    "data = {\n",
    "    \"Tên\": [\"An\", \"Bình\", \"Chi\", \"Dũng\"],\n",
    "    \"Toán\": [9, 6.5, 8, 4],\n",
    "    \"Văn\": [8, 7, 9, 5],\n",
    "    \"Anh\": [7, 8, 9, 6]\n",
    "}\n",
    "df = pd.DataFrame(data)\n",
    "\n",
    "# Tính điểm trung bình\n",
    "df[\"Trung bình\"] = df[[\"Toán\", \"Văn\", \"Anh\"]].mean(axis=1)\n",
    "\n",
    "# Lọc học sinh giỏi\n",
    "gioi = df[df[\"Trung bình\"] >= 8]\n",
    "print(\"🎖️ Học sinh giỏi:\\n\", gioi)\n"
   ]
  },
  {
   "cell_type": "code",
   "execution_count": 35,
   "id": "e0e0793e",
   "metadata": {},
   "outputs": [
    {
     "name": "stdout",
     "output_type": "stream",
     "text": [
      "Lớp\n",
      "10A    8.50\n",
      "10B    6.75\n",
      "Name: Trung bình, dtype: float64\n",
      "    Tên  Toán  Anh  Trung bình  Lớp Học lực\n",
      "0    An   9.0    8        8.50  10A    Giỏi\n",
      "1  Bình   6.5    7        6.75  10B     Khá\n",
      "2   Chi   8.0    9        8.50  10A    Giỏi\n"
     ]
    }
   ],
   "source": [
    "# Nhóm theo lớp và tính điểm TB\n",
    "df[\"Lớp\"] = [\"10A\", \"10B\", \"10A\"]\n",
    "grouped = df.groupby(\"Lớp\")[\"Trung bình\"].mean()\n",
    "print(grouped)\n",
    "\n",
    "# Thêm phân loại học lực\n",
    "def xep_loai(diem):\n",
    "    if diem >= 8: return \"Giỏi\"\n",
    "    elif diem >= 6.5: return \"Khá\"\n",
    "    elif diem >= 5: return \"TB\"\n",
    "    else: return \"Yếu\"\n",
    "\n",
    "df[\"Học lực\"] = df[\"Trung bình\"].apply(xep_loai)\n",
    "print(df)\n"
   ]
  },
  {
   "cell_type": "markdown",
   "id": "5828c9e1",
   "metadata": {},
   "source": [
    "#### 1.1. Thư viện xử lý dữ liệu"
   ]
  },
  {
   "cell_type": "code",
   "execution_count": 22,
   "id": "709f5fa0",
   "metadata": {},
   "outputs": [
    {
     "name": "stdout",
     "output_type": "stream",
     "text": [
      "Requirement already satisfied: pandas in c:\\users\\nitro 5\\appdata\\local\\programs\\python\\python310\\lib\\site-packages (2.2.3)\n",
      "Requirement already satisfied: numpy>=1.22.4 in c:\\users\\nitro 5\\appdata\\local\\programs\\python\\python310\\lib\\site-packages (from pandas) (2.2.3)\n",
      "Requirement already satisfied: python-dateutil>=2.8.2 in c:\\users\\nitro 5\\appdata\\roaming\\python\\python310\\site-packages (from pandas) (2.9.0.post0)\n",
      "Requirement already satisfied: pytz>=2020.1 in c:\\users\\nitro 5\\appdata\\local\\programs\\python\\python310\\lib\\site-packages (from pandas) (2025.2)\n",
      "Requirement already satisfied: tzdata>=2022.7 in c:\\users\\nitro 5\\appdata\\local\\programs\\python\\python310\\lib\\site-packages (from pandas) (2025.2)\n",
      "Requirement already satisfied: six>=1.5 in c:\\users\\nitro 5\\appdata\\roaming\\python\\python310\\site-packages (from python-dateutil>=2.8.2->pandas) (1.17.0)\n"
     ]
    },
    {
     "name": "stderr",
     "output_type": "stream",
     "text": [
      "\n",
      "[notice] A new release of pip is available: 25.0.1 -> 25.1.1\n",
      "[notice] To update, run: python.exe -m pip install --upgrade pip\n"
     ]
    }
   ],
   "source": [
    "! pip install pandas\n"
   ]
  },
  {
   "cell_type": "code",
   "execution_count": 23,
   "id": "0f3b9502",
   "metadata": {},
   "outputs": [],
   "source": [
    "import pandas as pd\n"
   ]
  },
  {
   "cell_type": "markdown",
   "id": "38a8a56d",
   "metadata": {},
   "source": [
    "#### 1.2. Đọc dữ liệu từ file "
   ]
  },
  {
   "cell_type": "code",
   "execution_count": 28,
   "id": "0cf006b1",
   "metadata": {},
   "outputs": [],
   "source": [
    "df = pd.read_csv(\n",
    "    r'E:\\python_foundation\\7_day_learning_roadmap\\day_5\\data_vietlott_645.csv',\n",
    "    sep='\\t',               # tách cột theo tab\n",
    "    on_bad_lines='skip',    # bỏ dòng lỗi\n",
    "    encoding='utf-8'\n",
    ")\n"
   ]
  },
  {
   "cell_type": "markdown",
   "id": "80be66ae",
   "metadata": {},
   "source": [
    "#### 1.3. Khám phá dữ liệu"
   ]
  },
  {
   "cell_type": "code",
   "execution_count": 25,
   "id": "5eb6b2b3",
   "metadata": {},
   "outputs": [
    {
     "name": "stdout",
     "output_type": "stream",
     "text": [
      "<class 'pandas.core.frame.DataFrame'>\n",
      "Index: 1355 entries, T4 to T4\n",
      "Data columns (total 1 columns):\n",
      " #   Column                               Non-Null Count  Dtype \n",
      "---  ------                               --------------  ----- \n",
      " 0   Ngày Mở Thưởng\tKết Quả\tGiải Jackpot  1355 non-null   object\n",
      "dtypes: object(1)\n",
      "memory usage: 21.2+ KB\n"
     ]
    },
    {
     "data": {
      "text/html": [
       "<div>\n",
       "<style scoped>\n",
       "    .dataframe tbody tr th:only-of-type {\n",
       "        vertical-align: middle;\n",
       "    }\n",
       "\n",
       "    .dataframe tbody tr th {\n",
       "        vertical-align: top;\n",
       "    }\n",
       "\n",
       "    .dataframe thead th {\n",
       "        text-align: right;\n",
       "    }\n",
       "</style>\n",
       "<table border=\"1\" class=\"dataframe\">\n",
       "  <thead>\n",
       "    <tr style=\"text-align: right;\">\n",
       "      <th></th>\n",
       "      <th>Ngày Mở Thưởng\\tKết Quả\\tGiải Jackpot</th>\n",
       "    </tr>\n",
       "  </thead>\n",
       "  <tbody>\n",
       "    <tr>\n",
       "      <th>count</th>\n",
       "      <td>1355</td>\n",
       "    </tr>\n",
       "    <tr>\n",
       "      <th>unique</th>\n",
       "      <td>1355</td>\n",
       "    </tr>\n",
       "    <tr>\n",
       "      <th>top</th>\n",
       "      <td>27/07/2016\\t14 17 21 25 31 37\\t13.942.033.000</td>\n",
       "    </tr>\n",
       "    <tr>\n",
       "      <th>freq</th>\n",
       "      <td>1</td>\n",
       "    </tr>\n",
       "  </tbody>\n",
       "</table>\n",
       "</div>"
      ],
      "text/plain": [
       "                 Ngày Mở Thưởng\\tKết Quả\\tGiải Jackpot\n",
       "count                                             1355\n",
       "unique                                            1355\n",
       "top      27/07/2016\\t14 17 21 25 31 37\\t13.942.033.000\n",
       "freq                                                 1"
      ]
     },
     "execution_count": 25,
     "metadata": {},
     "output_type": "execute_result"
    }
   ],
   "source": [
    "df.head()            # Xem 5 dòng đầu\n",
    "df.info()            # Thông tin cột, kiểu dữ liệu\n",
    "df.describe()        # Thống kê mô tả\n"
   ]
  },
  {
   "cell_type": "markdown",
   "id": "63cacd56",
   "metadata": {},
   "source": [
    "#### 1.4. Xem cột thực tế"
   ]
  },
  {
   "cell_type": "code",
   "execution_count": 31,
   "id": "2d724e56",
   "metadata": {},
   "outputs": [
    {
     "name": "stdout",
     "output_type": "stream",
     "text": [
      "['Ngày Mở Thưởng', 'Kết Quả', 'Giải Jackpot']\n"
     ]
    }
   ],
   "source": [
    "print(df.columns.tolist())\n"
   ]
  },
  {
   "cell_type": "markdown",
   "id": "e0a49e85",
   "metadata": {},
   "source": []
  },
  {
   "cell_type": "markdown",
   "id": "c6347153",
   "metadata": {},
   "source": [
    "## 2. Thư viện Matplotlib"
   ]
  },
  {
   "cell_type": "markdown",
   "id": "54fd4e95",
   "metadata": {},
   "source": [
    "## 2.1. Lý thuyết cơ bản\n",
    "\t\n",
    "#### Cột (bar): \tplt.bar(x, y)\n",
    "#### Đường (line): \tplt.plot(x, y)\n",
    "#### Tròn (pie): plt.pie(values, labels=labels)\n",
    "#### Histogram (hist): \tplt.hist(data)"
   ]
  },
  {
   "cell_type": "markdown",
   "id": "a5967edd",
   "metadata": {},
   "source": [
    "## Các lệnh quan trọng:\n",
    "#### plt.title(\"Tiêu đề\")\n",
    "#### plt.xlabel(\"Trục X\")\n",
    "#### plt.ylabel(\"Trục Y\")\n",
    "#### plt.legend()\n",
    "#### plt.grid(True)\n",
    "#### plt.show()\n"
   ]
  },
  {
   "cell_type": "code",
   "execution_count": 32,
   "id": "3f431c8c",
   "metadata": {},
   "outputs": [
    {
     "data": {
      "image/png": "[encoded data removed]",
      "text/plain": [
       "<Figure size 640x480 with 1 Axes>"
      ]
     },
     "metadata": {},
     "output_type": "display_data"
    }
   ],
   "source": [
    "import matplotlib.pyplot as plt\n",
    "\n",
    "# Dữ liệu\n",
    "mon = [\"Toán\", \"Anh\", \"Văn\"]\n",
    "diem = [9, 8, 7]\n",
    "\n",
    "# Vẽ biểu đồ cột\n",
    "plt.bar(mon, diem, color=\"skyblue\")\n",
    "plt.title(\"Điểm các môn\")\n",
    "plt.xlabel(\"Môn học\")\n",
    "plt.ylabel(\"Điểm\")\n",
    "plt.ylim(0, 10)\n",
    "plt.grid(True)\n",
    "plt.show()\n"
   ]
  },
  {
   "cell_type": "code",
   "execution_count": 33,
   "id": "dc480086",
   "metadata": {},
   "outputs": [
    {
     "data": {
      "image/png": "[encoded data removed]",
      "text/plain": [
       "<Figure size 640x480 with 1 Axes>"
      ]
     },
     "metadata": {},
     "output_type": "display_data"
    }
   ],
   "source": [
    "# Nhiều đường trên 1 biểu đồ\n",
    "x = [1, 2, 3, 4, 5]\n",
    "y1 = [2, 4, 6, 8, 10]\n",
    "y2 = [1, 2, 3, 4, 5]\n",
    "\n",
    "plt.plot(x, y1, label=\"Gấp đôi\", marker=\"o\")\n",
    "plt.plot(x, y2, label=\"Bình thường\", linestyle=\"--\")\n",
    "plt.title(\"Biểu đồ so sánh\")\n",
    "plt.xlabel(\"Thời gian\")\n",
    "plt.ylabel(\"Giá trị\")\n",
    "plt.legend()\n",
    "plt.grid(True)\n",
    "plt.show()\n"
   ]
  },
  {
   "cell_type": "markdown",
   "id": "627aa5d1",
   "metadata": {},
   "source": [
    "#### 2.1. Thư viên Matplotlib"
   ]
  },
  {
   "cell_type": "code",
   "execution_count": null,
   "id": "ea6bee20",
   "metadata": {},
   "outputs": [
    {
     "name": "stdout",
     "output_type": "stream",
     "text": [
      "Collecting matplotlib\n",
      "  Using cached matplotlib-3.10.3-cp310-cp310-win_amd64.whl.metadata (11 kB)\n",
      "Collecting contourpy>=1.0.1 (from matplotlib)\n",
      "  Using cached contourpy-1.3.2-cp310-cp310-win_amd64.whl.metadata (5.5 kB)\n",
      "Collecting cycler>=0.10 (from matplotlib)\n",
      "  Using cached cycler-0.12.1-py3-none-any.whl.metadata (3.8 kB)\n",
      "Collecting fonttools>=4.22.0 (from matplotlib)\n",
      "  Using cached fonttools-4.58.1-cp310-cp310-win_amd64.whl.metadata (108 kB)\n",
      "Collecting kiwisolver>=1.3.1 (from matplotlib)\n",
      "  Using cached kiwisolver-1.4.8-cp310-cp310-win_amd64.whl.metadata (6.3 kB)\n",
      "Requirement already satisfied: numpy>=1.23 in c:\\users\\nitro 5\\appdata\\local\\programs\\python\\python310\\lib\\site-packages (from matplotlib) (2.2.3)\n",
      "Requirement already satisfied: packaging>=20.0 in c:\\users\\nitro 5\\appdata\\roaming\\python\\python310\\site-packages (from matplotlib) (24.2)\n",
      "Requirement already satisfied: pillow>=8 in c:\\users\\nitro 5\\appdata\\local\\programs\\python\\python310\\lib\\site-packages (from matplotlib) (11.1.0)\n",
      "Collecting pyparsing>=2.3.1 (from matplotlib)\n",
      "  Using cached pyparsing-3.2.3-py3-none-any.whl.metadata (5.0 kB)\n",
      "Requirement already satisfied: python-dateutil>=2.7 in c:\\users\\nitro 5\\appdata\\roaming\\python\\python310\\site-packages (from matplotlib) (2.9.0.post0)\n",
      "Requirement already satisfied: six>=1.5 in c:\\users\\nitro 5\\appdata\\roaming\\python\\python310\\site-packages (from python-dateutil>=2.7->matplotlib) (1.17.0)\n",
      "Using cached matplotlib-3.10.3-cp310-cp310-win_amd64.whl (8.1 MB)\n",
      "Using cached contourpy-1.3.2-cp310-cp310-win_amd64.whl (221 kB)\n",
      "Using cached cycler-0.12.1-py3-none-any.whl (8.3 kB)\n",
      "Using cached fonttools-4.58.1-cp310-cp310-win_amd64.whl (2.2 MB)\n",
      "Using cached kiwisolver-1.4.8-cp310-cp310-win_amd64.whl (71 kB)\n",
      "Using cached pyparsing-3.2.3-py3-none-any.whl (111 kB)\n",
      "Installing collected packages: pyparsing, kiwisolver, fonttools, cycler, contourpy, matplotlib\n",
      "Successfully installed contourpy-1.3.2 cycler-0.12.1 fonttools-4.58.1 kiwisolver-1.4.8 matplotlib-3.10.3 pyparsing-3.2.3\n"
     ]
    },
    {
     "name": "stderr",
     "output_type": "stream",
     "text": [
      "\n",
      "[notice] A new release of pip is available: 25.0.1 -> 25.1.1\n",
      "[notice] To update, run: python.exe -m pip install --upgrade pip\n"
     ]
    }
   ],
   "source": [
    "! pip install matplotlib"
   ]
  },
  {
   "cell_type": "code",
   "execution_count": 27,
   "id": "8896af12",
   "metadata": {},
   "outputs": [],
   "source": [
    "import matplotlib.pyplot as plt\n"
   ]
  },
  {
   "cell_type": "markdown",
   "id": "c3d0215a",
   "metadata": {},
   "source": []
  }
 ],
 "metadata": {
  "kernelspec": {
   "display_name": "Python 3",
   "language": "python",
   "name": "python3"
  },
  "language_info": {
   "codemirror_mode": {
    "name": "ipython",
    "version": 3
   },
   "file_extension": ".py",
   "mimetype": "text/x-python",
   "name": "python",
   "nbconvert_exporter": "python",
   "pygments_lexer": "ipython3",
   "version": "3.10.10"
  }
 },
 "nbformat": 4,
 "nbformat_minor": 5
}
