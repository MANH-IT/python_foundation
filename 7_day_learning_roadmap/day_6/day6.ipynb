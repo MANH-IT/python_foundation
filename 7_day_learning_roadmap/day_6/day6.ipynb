{
 "cells": [
  {
   "cell_type": "markdown",
   "id": "a5b9bd8c",
   "metadata": {},
   "source": [
    "# Buổi 6. Thư Viện Numpy, Seaborn"
   ]
  },
  {
   "cell_type": "markdown",
   "id": "2dca8970",
   "metadata": {},
   "source": []
  }
 ],
 "metadata": {
  "language_info": {
   "name": "python"
  }
 },
 "nbformat": 4,
 "nbformat_minor": 5
}
