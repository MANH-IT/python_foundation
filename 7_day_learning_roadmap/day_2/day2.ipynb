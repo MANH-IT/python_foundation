{
 "cells": [
  {
   "cell_type": "markdown",
   "id": "e09e2a80",
   "metadata": {},
   "source": [
    "# Buổi 2. Vòng Lặp, Hàm, Module"
   ]
  },
  {
   "cell_type": "markdown",
   "id": "8ee14d64",
   "metadata": {},
   "source": [
    "## 1. VÒNG LẶP (LOOP)"
   ]
  },
  {
   "cell_type": "markdown",
   "id": "93c2783d",
   "metadata": {},
   "source": [
    "#### Vòng lặp giúp bạn thực hiện lặp đi lặp lại một khối lệnh nhiều lần.\n",
    "\n"
   ]
  },
  {
   "cell_type": "markdown",
   "id": "a44f6368",
   "metadata": {},
   "source": [
    "## 1.1. Vòng lặp for"
   ]
  },
  {
   "cell_type": "markdown",
   "id": "fe361342",
   "metadata": {},
   "source": [
    "#### Cú pháp: "
   ]
  },
  {
   "cell_type": "code",
   "execution_count": 3,
   "id": "2fccec49",
   "metadata": {},
   "outputs": [
    {
     "ename": "SyntaxError",
     "evalue": "incomplete input (4162657531.py, line 2)",
     "output_type": "error",
     "traceback": [
      "\u001b[1;36m  Cell \u001b[1;32mIn[3], line 2\u001b[1;36m\u001b[0m\n\u001b[1;33m    # khối lệnh\u001b[0m\n\u001b[1;37m               ^\u001b[0m\n\u001b[1;31mSyntaxError\u001b[0m\u001b[1;31m:\u001b[0m incomplete input\n"
     ]
    }
   ],
   "source": [
    "for biến in range(giá_trị_bắt_đầu, giá_trị_kết_thúc):\n",
    "    # khối lệnh\n"
   ]
  },
  {
   "cell_type": "markdown",
   "id": "4c964026",
   "metadata": {},
   "source": [
    "#### Ví dụ 1: "
   ]
  },
  {
   "cell_type": "code",
   "execution_count": 4,
   "id": "2681bac8",
   "metadata": {},
   "outputs": [
    {
     "name": "stdout",
     "output_type": "stream",
     "text": [
      "Lần thứ 1\n",
      "Lần thứ 2\n",
      "Lần thứ 3\n",
      "Lần thứ 4\n",
      "Lần thứ 5\n"
     ]
    }
   ],
   "source": [
    "for i in range(1, 6):\n",
    "    print(\"Lần thứ\", i)\n"
   ]
  },
  {
   "cell_type": "markdown",
   "id": "6bc0794b",
   "metadata": {},
   "source": [
    "#### Ví dụ 2: In các số từ 1 đến 100"
   ]
  },
  {
   "cell_type": "code",
   "execution_count": 14,
   "id": "aa7ba3f8",
   "metadata": {},
   "outputs": [
    {
     "name": "stdout",
     "output_type": "stream",
     "text": [
      "1 2 3 4 5 6 7 8 9 10 11 12 13 14 15 16 17 18 19 20 21 22 23 24 25 26 27 28 29 30 31 32 33 34 35 36 37 38 39 40 41 42 43 44 45 46 47 48 49 50 51 52 53 54 55 56 57 58 59 60 61 62 63 64 65 66 67 68 69 70 71 72 73 74 75 76 77 78 79 80 81 82 83 84 85 86 87 88 89 90 91 92 93 94 95 96 97 98 99 100 "
     ]
    }
   ],
   "source": [
    "for i in range(1, 101):\n",
    "    print(i, end=' ')\n"
   ]
  },
  {
   "cell_type": "markdown",
   "id": "c02ba50d",
   "metadata": {},
   "source": [
    "#### Ví dụ 3: In các số chẵn từ 1 đến 100"
   ]
  },
  {
   "cell_type": "code",
   "execution_count": 15,
   "id": "a3c5ea38",
   "metadata": {},
   "outputs": [
    {
     "name": "stdout",
     "output_type": "stream",
     "text": [
      "2 4 6 8 10 12 14 16 18 20 22 24 26 28 30 32 34 36 38 40 42 44 46 48 50 52 54 56 58 60 62 64 66 68 70 72 74 76 78 80 82 84 86 88 90 92 94 96 98 100 "
     ]
    }
   ],
   "source": [
    "for i in range(2, 101, 2):\n",
    "    print(i, end=' ')\n"
   ]
  },
  {
   "cell_type": "markdown",
   "id": "02e7d9d4",
   "metadata": {},
   "source": [
    "#### Ví dụ 4: Tính giai thừa n!"
   ]
  },
  {
   "cell_type": "code",
   "execution_count": 16,
   "id": "d593edc5",
   "metadata": {},
   "outputs": [
    {
     "name": "stdout",
     "output_type": "stream",
     "text": [
      "Giai thừa là: 120\n"
     ]
    }
   ],
   "source": [
    "n = int(input(\"Nhập n: \"))\n",
    "gt = 1\n",
    "for i in range(1, n + 1):\n",
    "    gt *= i\n",
    "print(\"Giai thừa là:\", gt)\n"
   ]
  },
  {
   "cell_type": "markdown",
   "id": "7e2c50a2",
   "metadata": {},
   "source": [
    "#### Ví dụ 5: In bảng cửu chương của số n"
   ]
  },
  {
   "cell_type": "code",
   "execution_count": 17,
   "id": "a270d10a",
   "metadata": {},
   "outputs": [
    {
     "name": "stdout",
     "output_type": "stream",
     "text": [
      "5 x 1 = 5\n",
      "5 x 2 = 10\n",
      "5 x 3 = 15\n",
      "5 x 4 = 20\n",
      "5 x 5 = 25\n",
      "5 x 6 = 30\n",
      "5 x 7 = 35\n",
      "5 x 8 = 40\n",
      "5 x 9 = 45\n",
      "5 x 10 = 50\n"
     ]
    }
   ],
   "source": [
    "n = int(input(\"Nhập số: \"))\n",
    "for i in range(1, 11):\n",
    "    print(n, \"x\", i, \"=\", n * i)\n"
   ]
  },
  {
   "cell_type": "markdown",
   "id": "1efd36c4",
   "metadata": {},
   "source": [
    "#### Ví dụ 6: In hình tam giác sao (Pyramid)"
   ]
  },
  {
   "cell_type": "code",
   "execution_count": 18,
   "id": "c3c4651e",
   "metadata": {},
   "outputs": [
    {
     "name": "stdout",
     "output_type": "stream",
     "text": [
      "*\n",
      "**\n",
      "***\n",
      "****\n",
      "*****\n"
     ]
    }
   ],
   "source": [
    "n = int(input(\"Nhập chiều cao: \"))\n",
    "for i in range(1, n + 1):\n",
    "    print(\"*\" * i)\n"
   ]
  },
  {
   "cell_type": "markdown",
   "id": "a36d3875",
   "metadata": {},
   "source": []
  },
  {
   "cell_type": "markdown",
   "id": "323b732d",
   "metadata": {},
   "source": [
    "## 1.2. Vòng lặp while"
   ]
  },
  {
   "cell_type": "markdown",
   "id": "a38371fb",
   "metadata": {},
   "source": [
    "#### Cú pháp: "
   ]
  },
  {
   "cell_type": "code",
   "execution_count": 5,
   "id": "6f3341cc",
   "metadata": {},
   "outputs": [
    {
     "ename": "SyntaxError",
     "evalue": "incomplete input (3636923582.py, line 2)",
     "output_type": "error",
     "traceback": [
      "\u001b[1;36m  Cell \u001b[1;32mIn[5], line 2\u001b[1;36m\u001b[0m\n\u001b[1;33m    # khối lệnh\u001b[0m\n\u001b[1;37m               ^\u001b[0m\n\u001b[1;31mSyntaxError\u001b[0m\u001b[1;31m:\u001b[0m incomplete input\n"
     ]
    }
   ],
   "source": [
    "while điều_kiện:\n",
    "    # khối lệnh\n"
   ]
  },
  {
   "cell_type": "markdown",
   "id": "1d256f06",
   "metadata": {},
   "source": [
    "#### Ví dụ 1: "
   ]
  },
  {
   "cell_type": "code",
   "execution_count": 6,
   "id": "e8fc9fc1",
   "metadata": {},
   "outputs": [
    {
     "name": "stdout",
     "output_type": "stream",
     "text": [
      "Lần thứ 1\n",
      "Lần thứ 2\n",
      "Lần thứ 3\n",
      "Lần thứ 4\n",
      "Lần thứ 5\n"
     ]
    }
   ],
   "source": [
    "i = 1\n",
    "while i <= 5:\n",
    "    print(\"Lần thứ\", i)\n",
    "    i += 1\n"
   ]
  },
  {
   "cell_type": "markdown",
   "id": "c858a579",
   "metadata": {},
   "source": [
    "#### Ví dụ 2: In các số từ 1 đến 100"
   ]
  },
  {
   "cell_type": "code",
   "execution_count": 7,
   "id": "d23c4188",
   "metadata": {},
   "outputs": [
    {
     "name": "stdout",
     "output_type": "stream",
     "text": [
      "1 2 3 4 5 6 7 8 9 10 11 12 13 14 15 16 17 18 19 20 21 22 23 24 25 26 27 28 29 30 31 32 33 34 35 36 37 38 39 40 41 42 43 44 45 46 47 48 49 50 51 52 53 54 55 56 57 58 59 60 61 62 63 64 65 66 67 68 69 70 71 72 73 74 75 76 77 78 79 80 81 82 83 84 85 86 87 88 89 90 91 92 93 94 95 96 97 98 99 100 "
     ]
    }
   ],
   "source": [
    "i = 1\n",
    "while i <= 100:\n",
    "    print(i, end=' ')\n",
    "    i += 1\n"
   ]
  },
  {
   "cell_type": "markdown",
   "id": "77e630c7",
   "metadata": {},
   "source": [
    "#### Ví dụ 3: Tính tổng các số từ 1 đến n (nhập từ bàn phím)"
   ]
  },
  {
   "cell_type": "code",
   "execution_count": 8,
   "id": "3f22bbd4",
   "metadata": {},
   "outputs": [
    {
     "name": "stdout",
     "output_type": "stream",
     "text": [
      "Tổng từ 1 đến 5 là: 15\n"
     ]
    }
   ],
   "source": [
    "n = int(input(\"Nhập n: \"))\n",
    "tong = 0\n",
    "i = 1\n",
    "while i <= n:\n",
    "    tong += i\n",
    "    i += 1\n",
    "print(\"Tổng từ 1 đến\", n, \"là:\", tong)\n"
   ]
  },
  {
   "cell_type": "markdown",
   "id": "a607bc0f",
   "metadata": {},
   "source": [
    "#### Ví dụ 4: In bảng cửu chương của số n"
   ]
  },
  {
   "cell_type": "code",
   "execution_count": 9,
   "id": "1233532b",
   "metadata": {},
   "outputs": [
    {
     "name": "stdout",
     "output_type": "stream",
     "text": [
      "5 x 1 = 5\n",
      "5 x 2 = 10\n",
      "5 x 3 = 15\n",
      "5 x 4 = 20\n",
      "5 x 5 = 25\n",
      "5 x 6 = 30\n",
      "5 x 7 = 35\n",
      "5 x 8 = 40\n",
      "5 x 9 = 45\n",
      "5 x 10 = 50\n"
     ]
    }
   ],
   "source": [
    "n = int(input(\"Nhập số cần in bảng cửu chương: \"))\n",
    "i = 1\n",
    "while i <= 10:\n",
    "    print(n, \"x\", i, \"=\", n * i)\n",
    "    i += 1\n"
   ]
  },
  {
   "cell_type": "markdown",
   "id": "9d9d4619",
   "metadata": {},
   "source": [
    "#### Ví dụ 5: Tìm số lớn nhất trong n số nguyên"
   ]
  },
  {
   "cell_type": "code",
   "execution_count": 10,
   "id": "e1e983b0",
   "metadata": {},
   "outputs": [
    {
     "name": "stdout",
     "output_type": "stream",
     "text": [
      "Số lớn nhất là: 6\n"
     ]
    }
   ],
   "source": [
    "n = int(input(\"Nhập số lượng số nguyên: \"))\n",
    "so_lon_nhat = int(input(\"Nhập số thứ 1: \"))\n",
    "\n",
    "i = 2\n",
    "while i <= n:\n",
    "    x = int(input(f\"Nhập số thứ {i}: \"))\n",
    "    if x > so_lon_nhat:\n",
    "        so_lon_nhat = x\n",
    "    i += 1\n",
    "\n",
    "print(\"Số lớn nhất là:\", so_lon_nhat)\n"
   ]
  },
  {
   "cell_type": "markdown",
   "id": "f601e0d7",
   "metadata": {},
   "source": [
    "#### Ví dụ 6: Tính giai thừa n!"
   ]
  },
  {
   "cell_type": "code",
   "execution_count": 11,
   "id": "b3875d19",
   "metadata": {},
   "outputs": [
    {
     "name": "stdout",
     "output_type": "stream",
     "text": [
      "Giai thừa của 5 là: 120\n"
     ]
    }
   ],
   "source": [
    "n = int(input(\"Nhập n: \"))\n",
    "gt = 1\n",
    "i = 1\n",
    "while i <= n:\n",
    "    gt *= i\n",
    "    i += 1\n",
    "print(\"Giai thừa của\", n, \"là:\", gt)\n"
   ]
  },
  {
   "cell_type": "markdown",
   "id": "7ff31d86",
   "metadata": {},
   "source": [
    "#### Ví dụ 7: Tìm UCLN của 2 số"
   ]
  },
  {
   "cell_type": "code",
   "execution_count": 13,
   "id": "d91c04b5",
   "metadata": {},
   "outputs": [
    {
     "name": "stdout",
     "output_type": "stream",
     "text": [
      "UCLN là: 3\n"
     ]
    }
   ],
   "source": [
    "a = int(input(\"Nhập a: \"))\n",
    "b = int(input(\"Nhập b: \"))\n",
    "\n",
    "while b != 0:\n",
    "    temp = a % b\n",
    "    a = b\n",
    "    b = temp\n",
    "\n",
    "print(\"UCLN là:\", a)\n"
   ]
  },
  {
   "cell_type": "markdown",
   "id": "21fa5db4",
   "metadata": {},
   "source": [
    "## 2. HÀM (FUNCTION)"
   ]
  },
  {
   "cell_type": "markdown",
   "id": "83bccf1d",
   "metadata": {},
   "source": [
    "#### Hàm giúp bạn chia nhỏ chương trình thành các phần dễ quản lý, tái sử dụng mã và giúp code gọn gàng hơn."
   ]
  },
  {
   "cell_type": "markdown",
   "id": "eb98b491",
   "metadata": {},
   "source": [
    "#### Cú pháp"
   ]
  },
  {
   "cell_type": "code",
   "execution_count": null,
   "id": "df743ac6",
   "metadata": {},
   "outputs": [],
   "source": [
    "def tên_hàm(tham_số):\n",
    "    # khối lệnh\n",
    "    return giá_trị_trả_về\n"
   ]
  },
  {
   "cell_type": "markdown",
   "id": "7eefd85c",
   "metadata": {},
   "source": [
    "#### Ví dụ 1: "
   ]
  },
  {
   "cell_type": "code",
   "execution_count": 1,
   "id": "d6157973",
   "metadata": {},
   "outputs": [
    {
     "name": "stdout",
     "output_type": "stream",
     "text": [
      "8\n"
     ]
    }
   ],
   "source": [
    "def tinh_tong(a, b):\n",
    "    return a + b\n",
    "\n",
    "print(tinh_tong(3, 5))  # Kết quả: 8\n"
   ]
  },
  {
   "cell_type": "markdown",
   "id": "bf465e20",
   "metadata": {},
   "source": [
    "#### Ví dụ 2: Hàm không trả về (không có return)"
   ]
  },
  {
   "cell_type": "code",
   "execution_count": 2,
   "id": "fbe89056",
   "metadata": {},
   "outputs": [
    {
     "name": "stdout",
     "output_type": "stream",
     "text": [
      "Chào bạn Hùng\n"
     ]
    }
   ],
   "source": [
    "def xin_chao(ten):\n",
    "    print(\"Chào bạn\", ten)\n",
    "\n",
    "xin_chao(\"Hùng\")\n"
   ]
  },
  {
   "cell_type": "markdown",
   "id": "f4b2273e",
   "metadata": {},
   "source": [
    "#### Ví dụ 3. Đếm số lượng chữ số của một số nguyên"
   ]
  },
  {
   "cell_type": "markdown",
   "id": "556a8d3d",
   "metadata": {},
   "source": []
  },
  {
   "cell_type": "code",
   "execution_count": 19,
   "id": "9bcdddd4",
   "metadata": {},
   "outputs": [
    {
     "name": "stdout",
     "output_type": "stream",
     "text": [
      "5\n"
     ]
    }
   ],
   "source": [
    "def dem_chu_so(n):\n",
    "    dem = 0\n",
    "    while n > 0:\n",
    "        n //= 10\n",
    "        dem += 1\n",
    "    return dem\n",
    "\n",
    "print(dem_chu_so(12345))  # Kết quả: 5\n"
   ]
  },
  {
   "cell_type": "markdown",
   "id": "7a1637ce",
   "metadata": {},
   "source": [
    "#### Ví dụ 4: Tổng các chữ số lẻ của 1 số"
   ]
  },
  {
   "cell_type": "code",
   "execution_count": 20,
   "id": "7163fde7",
   "metadata": {},
   "outputs": [
    {
     "name": "stdout",
     "output_type": "stream",
     "text": [
      "9\n"
     ]
    }
   ],
   "source": [
    "def tong_le(n):\n",
    "    tong = 0\n",
    "    while n > 0:\n",
    "        d = n % 10\n",
    "        if d % 2 != 0:\n",
    "            tong += d\n",
    "        n //= 10\n",
    "    return tong\n",
    "\n",
    "print(tong_le(12345))  # Kết quả: 9 (1+3+5)\n"
   ]
  },
  {
   "cell_type": "markdown",
   "id": "7a503431",
   "metadata": {},
   "source": [
    "#### Ví dụ 5: Số hoàn hảo"
   ]
  },
  {
   "cell_type": "markdown",
   "id": "4e380c58",
   "metadata": {},
   "source": [
    "#### Một số hoàn hảo là số mà tổng các ước nhỏ hơn chính nó bằng chính nó. VD: 6 (1+2+3 = 6)"
   ]
  },
  {
   "cell_type": "code",
   "execution_count": 21,
   "id": "76606328",
   "metadata": {},
   "outputs": [
    {
     "name": "stdout",
     "output_type": "stream",
     "text": [
      "True\n",
      "False\n"
     ]
    }
   ],
   "source": [
    "def la_hoan_hao(n):\n",
    "    tong = 0\n",
    "    for i in range(1, n):\n",
    "        if n % i == 0:\n",
    "            tong += i\n",
    "    return tong == n\n",
    "\n",
    "print(la_hoan_hao(28))  # True\n",
    "print(la_hoan_hao(10))  # False\n"
   ]
  },
  {
   "cell_type": "markdown",
   "id": "f75b32c5",
   "metadata": {},
   "source": [
    "#### Ví dụ 6: Viết hàm kiểm tra số nguyên tố + tìm tổng các số nguyên tố từ 1 đến n"
   ]
  },
  {
   "cell_type": "code",
   "execution_count": 22,
   "id": "22a2928e",
   "metadata": {},
   "outputs": [
    {
     "name": "stdout",
     "output_type": "stream",
     "text": [
      "77\n"
     ]
    }
   ],
   "source": [
    "def la_nguyen_to(n):\n",
    "    if n < 2: return False\n",
    "    for i in range(2, int(n**0.5)+1):\n",
    "        if n % i == 0: return False\n",
    "    return True\n",
    "\n",
    "def tong_nguyen_to(n):\n",
    "    tong = 0\n",
    "    for i in range(2, n+1):\n",
    "        if la_nguyen_to(i):\n",
    "            tong += i\n",
    "    return tong\n",
    "\n",
    "print(tong_nguyen_to(20))  # Kết quả: 77\n"
   ]
  },
  {
   "cell_type": "markdown",
   "id": "09854483",
   "metadata": {},
   "source": [
    "#### Ví dụ 7: Viết hàm đảo ngược số nguyên"
   ]
  },
  {
   "cell_type": "code",
   "execution_count": 23,
   "id": "cc6e9aba",
   "metadata": {},
   "outputs": [
    {
     "name": "stdout",
     "output_type": "stream",
     "text": [
      "321\n"
     ]
    }
   ],
   "source": [
    "def dao_nguoc(n):\n",
    "    kq = 0\n",
    "    while n > 0:\n",
    "        kq = kq * 10 + n % 10\n",
    "        n //= 10\n",
    "    return kq\n",
    "\n",
    "print(dao_nguoc(123))  # 321\n"
   ]
  },
  {
   "cell_type": "markdown",
   "id": "cbc9ab7c",
   "metadata": {},
   "source": [
    "## 3.  Module"
   ]
  },
  {
   "cell_type": "markdown",
   "id": "59a7b246",
   "metadata": {},
   "source": [
    "#### Module trong Python là một tệp .py chứa các hàm, biến, hoặc lớp có thể được tái sử dụng trong các chương trình khác.\n",
    "\n",
    "#### Có 2 loại:\n",
    "#### 1. Module có sẵn: math, random, datetime,...\n",
    "\n",
    "#### 2. Module do người dùng tự tạo\n",
    "\n",
    "###"
   ]
  },
  {
   "cell_type": "markdown",
   "id": "119f5b68",
   "metadata": {},
   "source": [
    "## 3.1. Module có sẵn"
   ]
  },
  {
   "cell_type": "markdown",
   "id": "fe435a96",
   "metadata": {},
   "source": [
    "#### Ví dụ 1: "
   ]
  },
  {
   "cell_type": "code",
   "execution_count": 24,
   "id": "1523887f",
   "metadata": {},
   "outputs": [
    {
     "name": "stdout",
     "output_type": "stream",
     "text": [
      "4.0\n"
     ]
    }
   ],
   "source": [
    "import math\n",
    "print(math.sqrt(16))  # Kết quả: 4.0\n"
   ]
  },
  {
   "cell_type": "markdown",
   "id": "c0e7fce8",
   "metadata": {},
   "source": [
    "#### Ví dụ 2: "
   ]
  },
  {
   "cell_type": "code",
   "execution_count": 25,
   "id": "a1fa8daf",
   "metadata": {},
   "outputs": [
    {
     "name": "stdout",
     "output_type": "stream",
     "text": [
      "5.0\n"
     ]
    }
   ],
   "source": [
    "from math import sqrt\n",
    "print(sqrt(25))  # Kết quả: 5.0\n"
   ]
  },
  {
   "cell_type": "markdown",
   "id": "cb8b3e0b",
   "metadata": {},
   "source": [
    "#### Ví dụ 3: math – Toán học"
   ]
  },
  {
   "cell_type": "code",
   "execution_count": 26,
   "id": "4a260c2a",
   "metadata": {},
   "outputs": [
    {
     "name": "stdout",
     "output_type": "stream",
     "text": [
      "8.0\n",
      "120\n",
      "6\n"
     ]
    }
   ],
   "source": [
    "import math\n",
    "print(math.pow(2, 3))   # Lũy thừa\n",
    "print(math.factorial(5))  # Giai thừa\n",
    "print(math.gcd(18, 24))   # Ước chung lớn nhất\n"
   ]
  },
  {
   "cell_type": "markdown",
   "id": "40c02d67",
   "metadata": {},
   "source": [
    "#### Ví dụ 4: random – Sinh số ngẫu nhiên"
   ]
  },
  {
   "cell_type": "code",
   "execution_count": 27,
   "id": "3254e492",
   "metadata": {},
   "outputs": [
    {
     "name": "stdout",
     "output_type": "stream",
     "text": [
      "10\n",
      "b\n"
     ]
    }
   ],
   "source": [
    "import random\n",
    "print(random.randint(1, 10))  # Số nguyên từ 1 đến 10\n",
    "print(random.choice(['a', 'b', 'c']))  # Chọn ngẫu nhiên 1 phần tử\n"
   ]
  },
  {
   "cell_type": "markdown",
   "id": "45affb83",
   "metadata": {},
   "source": [
    "#### Ví dụ 5: datetime – Xử lý ngày giờ"
   ]
  },
  {
   "cell_type": "code",
   "execution_count": 28,
   "id": "8e4e1ad5",
   "metadata": {},
   "outputs": [
    {
     "name": "stdout",
     "output_type": "stream",
     "text": [
      "01/06/2025 23:02:21\n"
     ]
    }
   ],
   "source": [
    "import datetime\n",
    "now = datetime.datetime.now()\n",
    "print(now.strftime(\"%d/%m/%Y %H:%M:%S\"))\n"
   ]
  },
  {
   "cell_type": "markdown",
   "id": "a63470a5",
   "metadata": {},
   "source": [
    "## 3.2. Module do người dùng tự tạo"
   ]
  },
  {
   "cell_type": "code",
   "execution_count": null,
   "id": "7b23b120",
   "metadata": {},
   "outputs": [],
   "source": []
  }
 ],
 "metadata": {
  "kernelspec": {
   "display_name": "Python 3",
   "language": "python",
   "name": "python3"
  },
  "language_info": {
   "codemirror_mode": {
    "name": "ipython",
    "version": 3
   },
   "file_extension": ".py",
   "mimetype": "text/x-python",
   "name": "python",
   "nbconvert_exporter": "python",
   "pygments_lexer": "ipython3",
   "version": "3.10.10"
  }
 },
 "nbformat": 4,
 "nbformat_minor": 5
}
